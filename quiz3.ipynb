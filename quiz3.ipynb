{
 "cells": [
  {
   "cell_type": "markdown",
   "metadata": {},
   "source": [
    "# Quiz 3\n",
    "\n",
    "**Author:**"
   ]
  },
  {
   "cell_type": "markdown",
   "metadata": {},
   "source": [
    "**Exercise 1:** \n",
    "\n",
    "1. Import the nobel price data frame using pandas.\n",
    "\n",
    "2. Explore the data set: \n",
    "\n",
    "    2.1. Print the first five rows of the table.\n",
    "\n",
    "    2.2. Print all the columns in the table.\n",
    "\n",
    "    2.3. Print the types of all the columns in the table.\n",
    "\n",
    "    2.4. Would the describe function give us any useful information of this data? (answer based on the data types of the columns).\n",
    "\n",
    "3. Select only the gender column. Using a lambda function and the filter function, calculate the number and proportion of woman who have won the nobel price.\n",
    "\n",
    "4. Select the column gender and save it in an object called ```g```. Do the same with the column category, and save it in an object called ```c```. Create a new object ```gc = g + c``` and print the content. \n",
    "\n",
    "5. Use the object ```gc```, a lambda function and the filter function to calculate the number and proportion of females that have won the economics novel price. Compare that number with the total number of females that have won any nobel price (from question 3) "
   ]
  },
  {
   "cell_type": "code",
   "execution_count": 1,
   "metadata": {},
   "outputs": [],
   "source": [
    "import pandas as pd "
   ]
  },
  {
   "cell_type": "code",
   "execution_count": 7,
   "metadata": {},
   "outputs": [],
   "source": [
    "import os\n",
    "os.getcwd()\n",
    "np = pd.read_csv('data/nobel_prize.csv')"
   ]
  },
  {
   "cell_type": "code",
   "execution_count": 8,
   "metadata": {},
   "outputs": [
    {
     "data": {
      "text/html": [
       "<div>\n",
       "<style scoped>\n",
       "    .dataframe tbody tr th:only-of-type {\n",
       "        vertical-align: middle;\n",
       "    }\n",
       "\n",
       "    .dataframe tbody tr th {\n",
       "        vertical-align: top;\n",
       "    }\n",
       "\n",
       "    .dataframe thead th {\n",
       "        text-align: right;\n",
       "    }\n",
       "</style>\n",
       "<table border=\"1\" class=\"dataframe\">\n",
       "  <thead>\n",
       "    <tr style=\"text-align: right;\">\n",
       "      <th></th>\n",
       "      <th>index</th>\n",
       "      <th>id</th>\n",
       "      <th>firstname</th>\n",
       "      <th>surname</th>\n",
       "      <th>born</th>\n",
       "      <th>died</th>\n",
       "      <th>bornCountry</th>\n",
       "      <th>bornCountryCode</th>\n",
       "      <th>bornCity</th>\n",
       "      <th>diedCountry</th>\n",
       "      <th>...</th>\n",
       "      <th>diedCity</th>\n",
       "      <th>gender</th>\n",
       "      <th>year</th>\n",
       "      <th>category</th>\n",
       "      <th>overallMotivation</th>\n",
       "      <th>share</th>\n",
       "      <th>motivation</th>\n",
       "      <th>name</th>\n",
       "      <th>city</th>\n",
       "      <th>country</th>\n",
       "    </tr>\n",
       "  </thead>\n",
       "  <tbody>\n",
       "    <tr>\n",
       "      <th>0</th>\n",
       "      <td>0</td>\n",
       "      <td>846</td>\n",
       "      <td>Elinor</td>\n",
       "      <td>Ostrom</td>\n",
       "      <td>8/7/1933</td>\n",
       "      <td>6/12/2012</td>\n",
       "      <td>USA</td>\n",
       "      <td>US</td>\n",
       "      <td>Los Angeles, CA</td>\n",
       "      <td>USA</td>\n",
       "      <td>...</td>\n",
       "      <td>Bloomington, IN</td>\n",
       "      <td>female</td>\n",
       "      <td>2009.0</td>\n",
       "      <td>economics</td>\n",
       "      <td>NaN</td>\n",
       "      <td>2.0</td>\n",
       "      <td>\"for her analysis of economic governance, espe...</td>\n",
       "      <td>Indiana University</td>\n",
       "      <td>Bloomington, IN</td>\n",
       "      <td>USA</td>\n",
       "    </tr>\n",
       "    <tr>\n",
       "      <th>1</th>\n",
       "      <td>1</td>\n",
       "      <td>846</td>\n",
       "      <td>Elinor</td>\n",
       "      <td>Ostrom</td>\n",
       "      <td>8/7/1933</td>\n",
       "      <td>6/12/2012</td>\n",
       "      <td>USA</td>\n",
       "      <td>US</td>\n",
       "      <td>Los Angeles, CA</td>\n",
       "      <td>USA</td>\n",
       "      <td>...</td>\n",
       "      <td>Bloomington, IN</td>\n",
       "      <td>female</td>\n",
       "      <td>2009.0</td>\n",
       "      <td>economics</td>\n",
       "      <td>NaN</td>\n",
       "      <td>2.0</td>\n",
       "      <td>\"for her analysis of economic governance, espe...</td>\n",
       "      <td>Arizona State University</td>\n",
       "      <td>Tempe, AZ</td>\n",
       "      <td>USA</td>\n",
       "    </tr>\n",
       "    <tr>\n",
       "      <th>2</th>\n",
       "      <td>2</td>\n",
       "      <td>783</td>\n",
       "      <td>Wangari Muta</td>\n",
       "      <td>Maathai</td>\n",
       "      <td>4/1/1940</td>\n",
       "      <td>9/25/2011</td>\n",
       "      <td>Kenya</td>\n",
       "      <td>KE</td>\n",
       "      <td>Nyeri</td>\n",
       "      <td>Kenya</td>\n",
       "      <td>...</td>\n",
       "      <td>Nairobi</td>\n",
       "      <td>female</td>\n",
       "      <td>2004.0</td>\n",
       "      <td>peace</td>\n",
       "      <td>NaN</td>\n",
       "      <td>1.0</td>\n",
       "      <td>\"for her contribution to sustainable developme...</td>\n",
       "      <td>NaN</td>\n",
       "      <td>NaN</td>\n",
       "      <td>NaN</td>\n",
       "    </tr>\n",
       "    <tr>\n",
       "      <th>3</th>\n",
       "      <td>3</td>\n",
       "      <td>230</td>\n",
       "      <td>Dorothy Crowfoot</td>\n",
       "      <td>Hodgkin</td>\n",
       "      <td>5/12/1910</td>\n",
       "      <td>7/29/1994</td>\n",
       "      <td>Egypt</td>\n",
       "      <td>EG</td>\n",
       "      <td>Cairo</td>\n",
       "      <td>United Kingdom</td>\n",
       "      <td>...</td>\n",
       "      <td>Shipston-on-Stour</td>\n",
       "      <td>female</td>\n",
       "      <td>1964.0</td>\n",
       "      <td>chemistry</td>\n",
       "      <td>NaN</td>\n",
       "      <td>1.0</td>\n",
       "      <td>\"for her determinations by X-ray techniques of...</td>\n",
       "      <td>University of Oxford, Royal Society</td>\n",
       "      <td>Oxford</td>\n",
       "      <td>United Kingdom</td>\n",
       "    </tr>\n",
       "    <tr>\n",
       "      <th>4</th>\n",
       "      <td>4</td>\n",
       "      <td>918</td>\n",
       "      <td>Youyou</td>\n",
       "      <td>Tu</td>\n",
       "      <td>12/30/1930</td>\n",
       "      <td>0000-00-00</td>\n",
       "      <td>China</td>\n",
       "      <td>CN</td>\n",
       "      <td>Zhejiang Ningbo</td>\n",
       "      <td>NaN</td>\n",
       "      <td>...</td>\n",
       "      <td>NaN</td>\n",
       "      <td>female</td>\n",
       "      <td>2015.0</td>\n",
       "      <td>medicine</td>\n",
       "      <td>NaN</td>\n",
       "      <td>2.0</td>\n",
       "      <td>\"for her discoveries concerning a novel therap...</td>\n",
       "      <td>China Academy of Traditional Chinese Medicine</td>\n",
       "      <td>Beijing</td>\n",
       "      <td>China</td>\n",
       "    </tr>\n",
       "  </tbody>\n",
       "</table>\n",
       "<p>5 rows × 21 columns</p>\n",
       "</div>"
      ],
      "text/plain": [
       "   index   id         firstname  surname        born        died bornCountry  \\\n",
       "0      0  846            Elinor   Ostrom    8/7/1933   6/12/2012         USA   \n",
       "1      1  846            Elinor   Ostrom    8/7/1933   6/12/2012         USA   \n",
       "2      2  783      Wangari Muta  Maathai    4/1/1940   9/25/2011       Kenya   \n",
       "3      3  230  Dorothy Crowfoot  Hodgkin   5/12/1910   7/29/1994       Egypt   \n",
       "4      4  918            Youyou       Tu  12/30/1930  0000-00-00       China   \n",
       "\n",
       "  bornCountryCode         bornCity     diedCountry  ...           diedCity  \\\n",
       "0              US  Los Angeles, CA             USA  ...    Bloomington, IN   \n",
       "1              US  Los Angeles, CA             USA  ...    Bloomington, IN   \n",
       "2              KE            Nyeri           Kenya  ...            Nairobi   \n",
       "3              EG            Cairo  United Kingdom  ...  Shipston-on-Stour   \n",
       "4              CN  Zhejiang Ningbo             NaN  ...                NaN   \n",
       "\n",
       "   gender    year   category overallMotivation share  \\\n",
       "0  female  2009.0  economics               NaN   2.0   \n",
       "1  female  2009.0  economics               NaN   2.0   \n",
       "2  female  2004.0      peace               NaN   1.0   \n",
       "3  female  1964.0  chemistry               NaN   1.0   \n",
       "4  female  2015.0   medicine               NaN   2.0   \n",
       "\n",
       "                                          motivation  \\\n",
       "0  \"for her analysis of economic governance, espe...   \n",
       "1  \"for her analysis of economic governance, espe...   \n",
       "2  \"for her contribution to sustainable developme...   \n",
       "3  \"for her determinations by X-ray techniques of...   \n",
       "4  \"for her discoveries concerning a novel therap...   \n",
       "\n",
       "                                            name             city  \\\n",
       "0                             Indiana University  Bloomington, IN   \n",
       "1                       Arizona State University        Tempe, AZ   \n",
       "2                                            NaN              NaN   \n",
       "3            University of Oxford, Royal Society           Oxford   \n",
       "4  China Academy of Traditional Chinese Medicine          Beijing   \n",
       "\n",
       "          country  \n",
       "0             USA  \n",
       "1             USA  \n",
       "2             NaN  \n",
       "3  United Kingdom  \n",
       "4           China  \n",
       "\n",
       "[5 rows x 21 columns]"
      ]
     },
     "execution_count": 8,
     "metadata": {},
     "output_type": "execute_result"
    }
   ],
   "source": [
    "np.head()"
   ]
  },
  {
   "cell_type": "code",
   "execution_count": 12,
   "metadata": {},
   "outputs": [
    {
     "data": {
      "text/plain": [
       "Index(['index', 'id', 'firstname', 'surname', 'born', 'died', 'bornCountry',\n",
       "       'bornCountryCode', 'bornCity', 'diedCountry', 'diedCountryCode',\n",
       "       'diedCity', 'gender', 'year', 'category', 'overallMotivation', 'share',\n",
       "       'motivation', 'name', 'city', 'country'],\n",
       "      dtype='object')"
      ]
     },
     "execution_count": 12,
     "metadata": {},
     "output_type": "execute_result"
    }
   ],
   "source": [
    "np.columns"
   ]
  },
  {
   "cell_type": "code",
   "execution_count": 16,
   "metadata": {},
   "outputs": [
    {
     "data": {
      "text/plain": [
       "index                  int64\n",
       "id                     int64\n",
       "firstname             object\n",
       "surname               object\n",
       "born                  object\n",
       "died                  object\n",
       "bornCountry           object\n",
       "bornCountryCode       object\n",
       "bornCity              object\n",
       "diedCountry           object\n",
       "diedCountryCode       object\n",
       "diedCity              object\n",
       "gender                object\n",
       "year                 float64\n",
       "category              object\n",
       "overallMotivation     object\n",
       "share                float64\n",
       "motivation            object\n",
       "name                  object\n",
       "city                  object\n",
       "country               object\n",
       "dtype: object"
      ]
     },
     "execution_count": 16,
     "metadata": {},
     "output_type": "execute_result"
    }
   ],
   "source": [
    "np.dtypes"
   ]
  },
  {
   "cell_type": "code",
   "execution_count": 27,
   "metadata": {},
   "outputs": [
    {
     "data": {
      "text/html": [
       "<div>\n",
       "<style scoped>\n",
       "    .dataframe tbody tr th:only-of-type {\n",
       "        vertical-align: middle;\n",
       "    }\n",
       "\n",
       "    .dataframe tbody tr th {\n",
       "        vertical-align: top;\n",
       "    }\n",
       "\n",
       "    .dataframe thead th {\n",
       "        text-align: right;\n",
       "    }\n",
       "</style>\n",
       "<table border=\"1\" class=\"dataframe\">\n",
       "  <thead>\n",
       "    <tr style=\"text-align: right;\">\n",
       "      <th></th>\n",
       "      <th>index</th>\n",
       "      <th>id</th>\n",
       "      <th>year</th>\n",
       "      <th>share</th>\n",
       "    </tr>\n",
       "  </thead>\n",
       "  <tbody>\n",
       "    <tr>\n",
       "      <th>count</th>\n",
       "      <td>972.000000</td>\n",
       "      <td>972.000000</td>\n",
       "      <td>966.000000</td>\n",
       "      <td>966.000000</td>\n",
       "    </tr>\n",
       "    <tr>\n",
       "      <th>mean</th>\n",
       "      <td>485.500000</td>\n",
       "      <td>471.365226</td>\n",
       "      <td>1970.145963</td>\n",
       "      <td>2.005176</td>\n",
       "    </tr>\n",
       "    <tr>\n",
       "      <th>std</th>\n",
       "      <td>280.736531</td>\n",
       "      <td>275.012711</td>\n",
       "      <td>32.889742</td>\n",
       "      <td>0.930193</td>\n",
       "    </tr>\n",
       "    <tr>\n",
       "      <th>min</th>\n",
       "      <td>0.000000</td>\n",
       "      <td>1.000000</td>\n",
       "      <td>1901.000000</td>\n",
       "      <td>1.000000</td>\n",
       "    </tr>\n",
       "    <tr>\n",
       "      <th>25%</th>\n",
       "      <td>242.750000</td>\n",
       "      <td>230.750000</td>\n",
       "      <td>1947.000000</td>\n",
       "      <td>1.000000</td>\n",
       "    </tr>\n",
       "    <tr>\n",
       "      <th>50%</th>\n",
       "      <td>485.500000</td>\n",
       "      <td>463.500000</td>\n",
       "      <td>1976.000000</td>\n",
       "      <td>2.000000</td>\n",
       "    </tr>\n",
       "    <tr>\n",
       "      <th>75%</th>\n",
       "      <td>728.250000</td>\n",
       "      <td>720.250000</td>\n",
       "      <td>1999.000000</td>\n",
       "      <td>3.000000</td>\n",
       "    </tr>\n",
       "    <tr>\n",
       "      <th>max</th>\n",
       "      <td>971.000000</td>\n",
       "      <td>934.000000</td>\n",
       "      <td>2016.000000</td>\n",
       "      <td>4.000000</td>\n",
       "    </tr>\n",
       "  </tbody>\n",
       "</table>\n",
       "</div>"
      ],
      "text/plain": [
       "            index          id         year       share\n",
       "count  972.000000  972.000000   966.000000  966.000000\n",
       "mean   485.500000  471.365226  1970.145963    2.005176\n",
       "std    280.736531  275.012711    32.889742    0.930193\n",
       "min      0.000000    1.000000  1901.000000    1.000000\n",
       "25%    242.750000  230.750000  1947.000000    1.000000\n",
       "50%    485.500000  463.500000  1976.000000    2.000000\n",
       "75%    728.250000  720.250000  1999.000000    3.000000\n",
       "max    971.000000  934.000000  2016.000000    4.000000"
      ]
     },
     "execution_count": 27,
     "metadata": {},
     "output_type": "execute_result"
    }
   ],
   "source": [
    "np.describe()"
   ]
  },
  {
   "cell_type": "markdown",
   "metadata": {},
   "source": [
    "\n",
    "#I don't think this is relevant information because we are looking at varibles like year and index and id etc, all of these statistics don't tell us anything relevant about the data. For example, the mean of the ID is not important because that number doesn't represent anything meaningful. Although variables like year and ID are numbers, their std or mean do not tell us relevant information about the data. "
   ]
  },
  {
   "cell_type": "code",
   "execution_count": 22,
   "metadata": {},
   "outputs": [
    {
     "name": "stdout",
     "output_type": "stream",
     "text": [
      "0.052854122621564484\n"
     ]
    }
   ],
   "source": [
    "g = np['gender']\n",
    "\n",
    "women = list(filter(lambda x: x == \"female\", g))\n",
    "men = list(filter(lambda x: x == \"male\", g))\n",
    "len(women) #50 women\n",
    "print(len(women)/(len(men)+len(women)))  #amount of women who win out of total amount"
   ]
  },
  {
   "cell_type": "code",
   "execution_count": 26,
   "metadata": {},
   "outputs": [
    {
     "name": "stdout",
     "output_type": "stream",
     "text": [
      "0      femaleeconomics\n",
      "1      femaleeconomics\n",
      "2          femalepeace\n",
      "3      femalechemistry\n",
      "4       femalemedicine\n",
      "            ...       \n",
      "967           orgpeace\n",
      "968           orgpeace\n",
      "969           orgpeace\n",
      "970           orgpeace\n",
      "971           orgpeace\n",
      "Length: 972, dtype: object\n"
     ]
    }
   ],
   "source": [
    "g = np['gender']\n",
    "c = np['category']\n",
    "gc = g+c\n",
    "print(gc)"
   ]
  },
  {
   "cell_type": "code",
   "execution_count": 31,
   "metadata": {},
   "outputs": [
    {
     "data": {
      "text/plain": [
       "2"
      ]
     },
     "execution_count": 31,
     "metadata": {},
     "output_type": "execute_result"
    }
   ],
   "source": [
    "womenEcon = list(filter(lambda x: x == \"femaleeconomics\", gc))\n",
    "len(womenEcon)"
   ]
  },
  {
   "cell_type": "markdown",
   "metadata": {},
   "source": [
    "Women who won the female economics nobel peace prize is 2. The total amount of women who have won nobel peace prizes are 50."
   ]
  }
 ],
 "metadata": {
  "kernelspec": {
   "display_name": "conda_amazonei_mxnet_p36",
   "language": "python",
   "name": "conda_amazonei_mxnet_p36"
  },
  "language_info": {
   "codemirror_mode": {
    "name": "ipython",
    "version": 3
   },
   "file_extension": ".py",
   "mimetype": "text/x-python",
   "name": "python",
   "nbconvert_exporter": "python",
   "pygments_lexer": "ipython3",
   "version": "3.6.13"
  },
  "vscode": {
   "interpreter": {
    "hash": "11838f79d2aaadbfa3a2adfaf35bacdebdb4e8d9b63957ddf298964812544a76"
   }
  }
 },
 "nbformat": 4,
 "nbformat_minor": 4
}
